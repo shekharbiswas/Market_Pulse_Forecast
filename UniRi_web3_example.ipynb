{
  "cells": [
    {
      "cell_type": "code",
      "execution_count": 2,
      "metadata": {
        "colab": {
          "base_uri": "https://localhost:8080/"
        },
        "id": "OKvN4-LusRQv",
        "outputId": "c441d589-eba8-48de-c7c9-8f8540481c17"
      },
      "outputs": [
        {
          "name": "stderr",
          "output_type": "stream",
          "text": [
            "[*********************100%***********************]  1 of 1 completed"
          ]
        },
        {
          "name": "stdout",
          "output_type": "stream",
          "text": [
            "✅ Connected to Sepolia Testnet\n",
            "Price            Close        High         Low        Open    Volume\n",
            "Ticker            AAPL        AAPL        AAPL        AAPL      AAPL\n",
            "Date                                                                \n",
            "2025-03-24  220.729996  221.479996  218.580002  221.000000  44299500\n",
            "2025-03-25  223.750000  224.100006  220.080002  220.770004  34493600\n",
            "2025-03-26  221.529999  225.020004  220.470001  223.509995  34466100\n",
            "2025-03-27  223.850006  224.990005  220.559998  221.389999  37094800\n",
            "2025-03-28  217.899994  223.809998  217.679993  221.669998  39818600\n",
            "✅ AAPL data saved to aapl_data.json\n",
            "🔐 SHA-256 hash of file: 6a649f2d9a2fb237bfdd1f635e9cd87edf4074a5ebe3a1446eb6be34bc6ef92e\n"
          ]
        },
        {
          "name": "stderr",
          "output_type": "stream",
          "text": [
            "\n"
          ]
        },
        {
          "name": "stdout",
          "output_type": "stream",
          "text": [
            "📤 Transaction sent! Hash: 0x470070bd71440c2814fe0736e4c7d8b15260757c31aec4a7b09bd5ec9d9219a3\n"
          ]
        }
      ],
      "source": [
        "## Sample of Sepolia Network\n",
        "\n",
        "\n",
        "from web3 import Web3\n",
        "import hashlib\n",
        "import yfinance as yf\n",
        "import json\n",
        "\n",
        "# --- Wallet setup ---\n",
        "pKey   = '0x58cc6dda0b164c045b02b75ad8f3cb472645b9d863a83129a1f6ca560fd141c7'\n",
        "wal_01 = '0x5afA5e8E6b31b6E57799cF4dF109Fd255fEb5Ab7'\n",
        "wal_02 = '0x3a07279c76DbDb90833241AcFC7f32C54ee281eD'\n",
        "\n",
        "# Connect to Sepolia via Infura\n",
        "sepolia_rpc = \"https://sepolia.infura.io/v3/fde74b6244e74502b31d2062bdc69d58\"\n",
        "w3 = Web3(Web3.HTTPProvider(sepolia_rpc))\n",
        "\n",
        "# Check connection\n",
        "if not w3.is_connected():\n",
        "    raise Exception(\"Failed to connect to Sepolia\")\n",
        "print(\"✅ Connected to Sepolia Testnet\")\n",
        "\n",
        "# Set up sender from private key\n",
        "sender = w3.eth.account.from_key(pKey)\n",
        "\n",
        "# Receiver address\n",
        "to_address = wal_02\n",
        "\n",
        "# --- Load financial data ---\n",
        "ticker     = 'AAPL'\n",
        "start_date = '2024-01-01'\n",
        "end_date   = '2025-03-31'\n",
        "\n",
        "def load_data(ticker, start_date, end_date):\n",
        "    data = yf.download(ticker, start=start_date, end=end_date)\n",
        "    return data\n",
        "\n",
        "df = load_data(ticker, start_date, end_date)\n",
        "print(df.tail())\n",
        "\n",
        "fileName = \"aapl_data.json\"\n",
        "df.to_json(fileName, orient=\"split\", date_format=\"iso\")\n",
        "print(f\"✅ AAPL data saved to {fileName}\")\n",
        "\n",
        "# --- Read and hash file content ---\n",
        "try:\n",
        "    with open(fileName, \"rb\") as f:\n",
        "        file_bytes = f.read()\n",
        "        hash_hex = hashlib.sha256(file_bytes).hexdigest()\n",
        "        print(\"🔐 SHA-256 hash of file:\", hash_hex)\n",
        "except FileNotFoundError:\n",
        "    raise Exception(f\"File '{fileName}' not found!\")\n",
        "\n",
        "# Convert hash to bytes for Ethereum tx data field\n",
        "data_bytes = w3.to_bytes(hexstr=hash_hex)\n",
        "\n",
        "# Get nonce for sender\n",
        "nonce = w3.eth.get_transaction_count(sender.address)\n",
        "\n",
        "# Build transaction\n",
        "tx = {\n",
        "    \"nonce\": nonce,\n",
        "    \"to\": to_address,\n",
        "    \"value\": w3.to_wei(0, \"ether\"),\n",
        "    \"gas\": 50000,\n",
        "    \"gasPrice\": w3.eth.gas_price,\n",
        "    \"data\": data_bytes,\n",
        "    \"chainId\": 11155111  # Sepolia chain ID\n",
        "}\n",
        "\n",
        "# Sign the transaction\n",
        "signed_tx = w3.eth.account.sign_transaction(tx, pKey)\n",
        "\n",
        "# Send the transaction\n",
        "tx_hash = w3.eth.send_raw_transaction(signed_tx.raw_transaction)\n",
        "\n",
        "# Output the transaction hash\n",
        "tx_hash_hex = w3.to_hex(tx_hash)\n",
        "print(f\"📤 Transaction sent! Hash: {tx_hash_hex}\")\n",
        "\n"
      ]
    },
    {
      "cell_type": "code",
      "execution_count": null,
      "metadata": {},
      "outputs": [],
      "source": []
    }
  ],
  "metadata": {
    "colab": {
      "provenance": []
    },
    "kernelspec": {
      "display_name": "base",
      "language": "python",
      "name": "python3"
    },
    "language_info": {
      "codemirror_mode": {
        "name": "ipython",
        "version": 3
      },
      "file_extension": ".py",
      "mimetype": "text/x-python",
      "name": "python",
      "nbconvert_exporter": "python",
      "pygments_lexer": "ipython3",
      "version": "3.12.4"
    }
  },
  "nbformat": 4,
  "nbformat_minor": 0
}
