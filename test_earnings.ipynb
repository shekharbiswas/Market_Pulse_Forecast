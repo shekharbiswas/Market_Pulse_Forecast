{
 "cells": [
  {
   "cell_type": "code",
   "execution_count": null,
   "id": "becdd98c",
   "metadata": {},
   "outputs": [
    {
     "name": "stdout",
     "output_type": "stream",
     "text": [
      "Income Statement for AAPL:\n",
      "Date: 2024-09-28, EPS: 6.11 (approx), Revenue: 391035000000\n",
      "Date: 2023-09-30, EPS: 6.16 (approx), Revenue: 383285000000\n",
      "Date: 2022-09-24, EPS: 6.15 (approx), Revenue: 394328000000\n",
      "Date: 2021-09-25, EPS: 5.67 (approx), Revenue: 365817000000\n",
      "Date: 2020-09-26, EPS: 3.31 (approx), Revenue: 274515000000\n"
     ]
    }
   ],
   "source": [
    "import requests\n",
    "\n",
    "def get_income_statement(symbol, api_key, limit=5):\n",
    "    url = f\"https://financialmodelingprep.com/api/v3/income-statement/{symbol}?limit={limit}&apikey={api_key}\"\n",
    "    response = requests.get(url)\n",
    "\n",
    "    if response.status_code == 200:\n",
    "        data = response.json()\n",
    "        print(f\"Income Statement for {symbol}:\")\n",
    "        for report in data:\n",
    "            date = report.get(\"date\")\n",
    "            eps = report.get(\"eps\") or report.get(\"netIncome\") / report.get(\"weightedAverageShsOut\") if report.get(\"weightedAverageShsOut\") else None\n",
    "            revenue = report.get(\"revenue\")\n",
    "            print(f\"Date: {date}, EPS: {eps:.2f} (approx), Revenue: {revenue}\")\n",
    "    else:\n",
    "        print(\"Failed to retrieve data:\", response.status_code)\n",
    "\n",
    "# Example usage\n",
    "api_key = \"xxxxxxxxxxxxxxxxxx\"\n",
    "symbol = \"AAPL\"\n",
    "\n",
    "get_income_statement(symbol, api_key)\n"
   ]
  },
  {
   "cell_type": "code",
   "execution_count": 5,
   "id": "dc9651c2",
   "metadata": {},
   "outputs": [
    {
     "name": "stdout",
     "output_type": "stream",
     "text": [
      "Quarter Income Statement for AAPL:\n",
      "Date: 2024-12-28, EPS: 2.41 (approx), Revenue: 124300000000\n",
      "Date: 2024-09-28, EPS: 0.97 (approx), Revenue: 94930000000\n",
      "Date: 2024-06-29, EPS: 1.40 (approx), Revenue: 85777000000\n",
      "Date: 2024-03-30, EPS: 1.53 (approx), Revenue: 90753000000\n",
      "Date: 2023-12-30, EPS: 2.19 (approx), Revenue: 119575000000\n",
      "Date: 2023-09-30, EPS: 1.47 (approx), Revenue: 89498000000\n",
      "Date: 2023-07-01, EPS: 1.27 (approx), Revenue: 81797000000\n",
      "Date: 2023-04-01, EPS: 1.53 (approx), Revenue: 94836000000\n",
      "Date: 2022-12-31, EPS: 1.89 (approx), Revenue: 117154000000\n",
      "Date: 2022-09-24, EPS: 1.29 (approx), Revenue: 90146000000\n",
      "Date: 2022-06-25, EPS: 1.20 (approx), Revenue: 82959000000\n",
      "Date: 2022-03-26, EPS: 1.54 (approx), Revenue: 97278000000\n",
      "Date: 2021-12-25, EPS: 2.11 (approx), Revenue: 123945000000\n",
      "Date: 2021-09-25, EPS: 1.25 (approx), Revenue: 83360000000\n",
      "Date: 2021-06-26, EPS: 1.31 (approx), Revenue: 81434000000\n",
      "Date: 2021-03-27, EPS: 1.41 (approx), Revenue: 89584000000\n",
      "Date: 2020-12-26, EPS: 1.70 (approx), Revenue: 111439000000\n",
      "Date: 2020-09-26, EPS: 0.74 (approx), Revenue: 64698000000\n",
      "Date: 2020-06-27, EPS: 0.65 (approx), Revenue: 59685000000\n",
      "Date: 2020-03-28, EPS: 0.64 (approx), Revenue: 58313000000\n",
      "Date: 2019-12-28, EPS: 1.26 (approx), Revenue: 91819000000\n",
      "Date: 2019-09-28, EPS: 0.76 (approx), Revenue: 64040000000\n",
      "Date: 2019-06-29, EPS: 0.55 (approx), Revenue: 53809000000\n",
      "Date: 2019-03-30, EPS: 0.62 (approx), Revenue: 58015000000\n",
      "Date: 2018-12-29, EPS: 1.05 (approx), Revenue: 84310000000\n",
      "Date: 2018-09-29, EPS: 0.74 (approx), Revenue: 62900000000\n",
      "Date: 2018-06-30, EPS: 0.59 (approx), Revenue: 53265000000\n",
      "Date: 2018-03-31, EPS: 0.69 (approx), Revenue: 61137000000\n",
      "Date: 2017-12-30, EPS: 0.98 (approx), Revenue: 88293000000\n",
      "Date: 2017-09-30, EPS: 0.52 (approx), Revenue: 52579000000\n",
      "Date: 2017-07-01, EPS: 0.42 (approx), Revenue: 45408000000\n",
      "Date: 2017-04-01, EPS: 0.53 (approx), Revenue: 52896000000\n",
      "Date: 2016-12-31, EPS: 0.84 (approx), Revenue: 78351000000\n",
      "Date: 2016-09-24, EPS: 0.42 (approx), Revenue: 46852000000\n",
      "Date: 2016-06-25, EPS: 0.36 (approx), Revenue: 42358000000\n",
      "Date: 2016-03-26, EPS: 0.48 (approx), Revenue: 50557000000\n",
      "Date: 2015-12-26, EPS: 0.83 (approx), Revenue: 75872000000\n",
      "Date: 2015-09-26, EPS: 0.49 (approx), Revenue: 51501000000\n",
      "Date: 2015-06-27, EPS: 0.47 (approx), Revenue: 49605000000\n",
      "Date: 2015-03-28, EPS: 0.59 (approx), Revenue: 58010000000\n"
     ]
    }
   ],
   "source": [
    "def get_income_statement(symbol, api_key, period=\"annual\", limit=4):\n",
    "    url = f\"https://financialmodelingprep.com/api/v3/income-statement/{symbol}?period={period}&limit={limit}&apikey={api_key}\"\n",
    "    response = requests.get(url)\n",
    "\n",
    "    if response.status_code == 200:\n",
    "        data = response.json()\n",
    "        print(f\"{period.capitalize()} Income Statement for {symbol}:\")\n",
    "        for report in data:\n",
    "            date = report.get(\"date\")\n",
    "            eps = report.get(\"eps\") or (\n",
    "                report.get(\"netIncome\") / report.get(\"weightedAverageShsOut\")\n",
    "                if report.get(\"netIncome\") and report.get(\"weightedAverageShsOut\") else None\n",
    "            )\n",
    "            revenue = report.get(\"revenue\")\n",
    "            print(f\"Date: {date}, EPS: {eps:.2f} (approx), Revenue: {revenue}\")\n",
    "    else:\n",
    "        print(\"Failed to retrieve data:\", response.status_code)\n",
    "\n",
    "# Call with quarterly data\n",
    "get_income_statement(\"AAPL\", api_key, period=\"quarter\", limit=40)\n"
   ]
  },
  {
   "cell_type": "code",
   "execution_count": null,
   "id": "3dd40dc3",
   "metadata": {},
   "outputs": [],
   "source": []
  }
 ],
 "metadata": {
  "kernelspec": {
   "display_name": "base",
   "language": "python",
   "name": "python3"
  },
  "language_info": {
   "codemirror_mode": {
    "name": "ipython",
    "version": 3
   },
   "file_extension": ".py",
   "mimetype": "text/x-python",
   "name": "python",
   "nbconvert_exporter": "python",
   "pygments_lexer": "ipython3",
   "version": "3.12.4"
  }
 },
 "nbformat": 4,
 "nbformat_minor": 5
}
